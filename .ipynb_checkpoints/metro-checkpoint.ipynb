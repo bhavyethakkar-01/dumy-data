{
 "cells": [
  {
   "cell_type": "markdown",
   "id": "6523a9c2-fb7d-4d6f-a5c4-f6cc74200fe2",
   "metadata": {},
   "source": [
    "importing the dependencies  "
   ]
  },
  {
   "cell_type": "code",
   "execution_count": 226,
   "id": "b9958f8c-0d32-4013-a882-3cea22e0b26a",
   "metadata": {},
   "outputs": [],
   "source": [
    "import pandas as pd\n",
    "import numpy as np\n",
    "import seaborn as sn\n",
    "from seaborn import pairplot\n",
    "import matplotlib.pyplot as plt \n",
    "import plotly.express as px\n",
    "import plotly.graph_objects as go\n",
    "from plotly.subplots import make_subplots\n",
    "import plotly.io as pio\n",
    "pio.templates.default = \"plotly_white\""
   ]
  },
  {
   "cell_type": "markdown",
   "id": "dd2ead12-7c4f-497c-ab8f-cc5424257de7",
   "metadata": {},
   "source": [
    "importing the actual data !"
   ]
  },
  {
   "cell_type": "code",
   "execution_count": 227,
   "id": "f1eceac7-73f5-4f0b-8086-e73212d20a9b",
   "metadata": {},
   "outputs": [
    {
     "data": {
      "text/html": [
       "<div>\n",
       "<style scoped>\n",
       "    .dataframe tbody tr th:only-of-type {\n",
       "        vertical-align: middle;\n",
       "    }\n",
       "\n",
       "    .dataframe tbody tr th {\n",
       "        vertical-align: top;\n",
       "    }\n",
       "\n",
       "    .dataframe thead th {\n",
       "        text-align: right;\n",
       "    }\n",
       "</style>\n",
       "<table border=\"1\" class=\"dataframe\">\n",
       "  <thead>\n",
       "    <tr style=\"text-align: right;\">\n",
       "      <th></th>\n",
       "      <th>ID (Station ID)</th>\n",
       "      <th>Station Names</th>\n",
       "      <th>Dist. From First Station(km)</th>\n",
       "      <th>Metro Line</th>\n",
       "      <th>Opened(Year)</th>\n",
       "      <th>Layout</th>\n",
       "      <th>Latitude</th>\n",
       "      <th>Longitude</th>\n",
       "    </tr>\n",
       "  </thead>\n",
       "  <tbody>\n",
       "    <tr>\n",
       "      <th>0</th>\n",
       "      <td>1.0</td>\n",
       "      <td>Shaheed Sthal(First Station)</td>\n",
       "      <td>0.0</td>\n",
       "      <td>Red line</td>\n",
       "      <td>08-03-2019</td>\n",
       "      <td>Elevated</td>\n",
       "      <td>28.670611</td>\n",
       "      <td>77.415582</td>\n",
       "    </tr>\n",
       "    <tr>\n",
       "      <th>1</th>\n",
       "      <td>2.0</td>\n",
       "      <td>Hindon River</td>\n",
       "      <td>1.0</td>\n",
       "      <td>Red line</td>\n",
       "      <td>08-03-2019</td>\n",
       "      <td>Elevated</td>\n",
       "      <td>28.878965</td>\n",
       "      <td>77.415483</td>\n",
       "    </tr>\n",
       "    <tr>\n",
       "      <th>2</th>\n",
       "      <td>3.0</td>\n",
       "      <td>Arthala</td>\n",
       "      <td>2.5</td>\n",
       "      <td>Red line</td>\n",
       "      <td>08-03-2019</td>\n",
       "      <td>Elevated</td>\n",
       "      <td>28.676999</td>\n",
       "      <td>77.391892</td>\n",
       "    </tr>\n",
       "    <tr>\n",
       "      <th>3</th>\n",
       "      <td>4.0</td>\n",
       "      <td>Mohan Nagar</td>\n",
       "      <td>3.2</td>\n",
       "      <td>Red line</td>\n",
       "      <td>08-03-2019</td>\n",
       "      <td>Elevated</td>\n",
       "      <td>28.606319</td>\n",
       "      <td>77.106082</td>\n",
       "    </tr>\n",
       "    <tr>\n",
       "      <th>4</th>\n",
       "      <td>5.0</td>\n",
       "      <td>Shyam park</td>\n",
       "      <td>4.5</td>\n",
       "      <td>Red line</td>\n",
       "      <td>08-03-2019</td>\n",
       "      <td>Elevated</td>\n",
       "      <td>28.698807</td>\n",
       "      <td>28.698807</td>\n",
       "    </tr>\n",
       "    <tr>\n",
       "      <th>...</th>\n",
       "      <td>...</td>\n",
       "      <td>...</td>\n",
       "      <td>...</td>\n",
       "      <td>...</td>\n",
       "      <td>...</td>\n",
       "      <td>...</td>\n",
       "      <td>...</td>\n",
       "      <td>...</td>\n",
       "    </tr>\n",
       "    <tr>\n",
       "      <th>333</th>\n",
       "      <td>NaN</td>\n",
       "      <td>Conn: Pink</td>\n",
       "      <td>NaN</td>\n",
       "      <td>NaN</td>\n",
       "      <td>NaN</td>\n",
       "      <td>NaN</td>\n",
       "      <td>NaN</td>\n",
       "      <td>NaN</td>\n",
       "    </tr>\n",
       "    <tr>\n",
       "      <th>334</th>\n",
       "      <td>4.0</td>\n",
       "      <td>Delhi Aerocity</td>\n",
       "      <td>14.5</td>\n",
       "      <td>Orange line</td>\n",
       "      <td>15-08-2011</td>\n",
       "      <td>Underground</td>\n",
       "      <td>28.548810</td>\n",
       "      <td>77.120920</td>\n",
       "    </tr>\n",
       "    <tr>\n",
       "      <th>335</th>\n",
       "      <td>5.0</td>\n",
       "      <td>IGI Airport</td>\n",
       "      <td>17.9</td>\n",
       "      <td>Orange line</td>\n",
       "      <td>23-02-2011</td>\n",
       "      <td>Underground</td>\n",
       "      <td>28.556930</td>\n",
       "      <td>77.086690</td>\n",
       "    </tr>\n",
       "    <tr>\n",
       "      <th>336</th>\n",
       "      <td>6.0</td>\n",
       "      <td>Dwarka Sector 21</td>\n",
       "      <td>20.8</td>\n",
       "      <td>Orange line</td>\n",
       "      <td>23-02-2011</td>\n",
       "      <td>Underground</td>\n",
       "      <td>28.552260</td>\n",
       "      <td>77.058280</td>\n",
       "    </tr>\n",
       "    <tr>\n",
       "      <th>337</th>\n",
       "      <td>NaN</td>\n",
       "      <td>Conn: Blue</td>\n",
       "      <td>NaN</td>\n",
       "      <td>NaN</td>\n",
       "      <td>NaN</td>\n",
       "      <td>NaN</td>\n",
       "      <td>NaN</td>\n",
       "      <td>NaN</td>\n",
       "    </tr>\n",
       "  </tbody>\n",
       "</table>\n",
       "<p>338 rows × 8 columns</p>\n",
       "</div>"
      ],
      "text/plain": [
       "     ID (Station ID)                 Station Names  \\\n",
       "0                1.0  Shaheed Sthal(First Station)   \n",
       "1                2.0                  Hindon River   \n",
       "2                3.0                       Arthala   \n",
       "3                4.0                   Mohan Nagar   \n",
       "4                5.0                    Shyam park   \n",
       "..               ...                           ...   \n",
       "333              NaN                    Conn: Pink   \n",
       "334              4.0                Delhi Aerocity   \n",
       "335              5.0                   IGI Airport   \n",
       "336              6.0              Dwarka Sector 21   \n",
       "337              NaN                    Conn: Blue   \n",
       "\n",
       "     Dist. From First Station(km)   Metro Line Opened(Year)       Layout  \\\n",
       "0                             0.0     Red line   08-03-2019     Elevated   \n",
       "1                             1.0     Red line   08-03-2019     Elevated   \n",
       "2                             2.5     Red line   08-03-2019     Elevated   \n",
       "3                             3.2     Red line   08-03-2019     Elevated   \n",
       "4                             4.5     Red line   08-03-2019     Elevated   \n",
       "..                            ...          ...          ...          ...   \n",
       "333                           NaN          NaN          NaN          NaN   \n",
       "334                          14.5  Orange line   15-08-2011  Underground   \n",
       "335                          17.9  Orange line   23-02-2011  Underground   \n",
       "336                          20.8  Orange line   23-02-2011  Underground   \n",
       "337                           NaN          NaN          NaN          NaN   \n",
       "\n",
       "      Latitude  Longitude  \n",
       "0    28.670611  77.415582  \n",
       "1    28.878965  77.415483  \n",
       "2    28.676999  77.391892  \n",
       "3    28.606319  77.106082  \n",
       "4    28.698807  28.698807  \n",
       "..         ...        ...  \n",
       "333        NaN        NaN  \n",
       "334  28.548810  77.120920  \n",
       "335  28.556930  77.086690  \n",
       "336  28.552260  77.058280  \n",
       "337        NaN        NaN  \n",
       "\n",
       "[338 rows x 8 columns]"
      ]
     },
     "execution_count": 227,
     "metadata": {},
     "output_type": "execute_result"
    }
   ],
   "source": [
    "df = pd.read_csv('Delhi metro.csv')\n",
    "df"
   ]
  },
  {
   "cell_type": "code",
   "execution_count": 228,
   "id": "37dc5269-4275-41a7-868a-9930f8ce122c",
   "metadata": {},
   "outputs": [
    {
     "data": {
      "text/html": [
       "<div>\n",
       "<style scoped>\n",
       "    .dataframe tbody tr th:only-of-type {\n",
       "        vertical-align: middle;\n",
       "    }\n",
       "\n",
       "    .dataframe tbody tr th {\n",
       "        vertical-align: top;\n",
       "    }\n",
       "\n",
       "    .dataframe thead th {\n",
       "        text-align: right;\n",
       "    }\n",
       "</style>\n",
       "<table border=\"1\" class=\"dataframe\">\n",
       "  <thead>\n",
       "    <tr style=\"text-align: right;\">\n",
       "      <th></th>\n",
       "      <th>ID (Station ID)</th>\n",
       "      <th>Station Names</th>\n",
       "      <th>Dist. From First Station(km)</th>\n",
       "      <th>Metro Line</th>\n",
       "      <th>Opened(Year)</th>\n",
       "      <th>Layout</th>\n",
       "      <th>Latitude</th>\n",
       "      <th>Longitude</th>\n",
       "    </tr>\n",
       "  </thead>\n",
       "  <tbody>\n",
       "    <tr>\n",
       "      <th>0</th>\n",
       "      <td>1.0</td>\n",
       "      <td>Shaheed Sthal(First Station)</td>\n",
       "      <td>0.0</td>\n",
       "      <td>Red line</td>\n",
       "      <td>08-03-2019</td>\n",
       "      <td>Elevated</td>\n",
       "      <td>28.670611</td>\n",
       "      <td>77.415582</td>\n",
       "    </tr>\n",
       "    <tr>\n",
       "      <th>1</th>\n",
       "      <td>2.0</td>\n",
       "      <td>Hindon River</td>\n",
       "      <td>1.0</td>\n",
       "      <td>Red line</td>\n",
       "      <td>08-03-2019</td>\n",
       "      <td>Elevated</td>\n",
       "      <td>28.878965</td>\n",
       "      <td>77.415483</td>\n",
       "    </tr>\n",
       "    <tr>\n",
       "      <th>2</th>\n",
       "      <td>3.0</td>\n",
       "      <td>Arthala</td>\n",
       "      <td>2.5</td>\n",
       "      <td>Red line</td>\n",
       "      <td>08-03-2019</td>\n",
       "      <td>Elevated</td>\n",
       "      <td>28.676999</td>\n",
       "      <td>77.391892</td>\n",
       "    </tr>\n",
       "    <tr>\n",
       "      <th>3</th>\n",
       "      <td>4.0</td>\n",
       "      <td>Mohan Nagar</td>\n",
       "      <td>3.2</td>\n",
       "      <td>Red line</td>\n",
       "      <td>08-03-2019</td>\n",
       "      <td>Elevated</td>\n",
       "      <td>28.606319</td>\n",
       "      <td>77.106082</td>\n",
       "    </tr>\n",
       "    <tr>\n",
       "      <th>4</th>\n",
       "      <td>5.0</td>\n",
       "      <td>Shyam park</td>\n",
       "      <td>4.5</td>\n",
       "      <td>Red line</td>\n",
       "      <td>08-03-2019</td>\n",
       "      <td>Elevated</td>\n",
       "      <td>28.698807</td>\n",
       "      <td>28.698807</td>\n",
       "    </tr>\n",
       "  </tbody>\n",
       "</table>\n",
       "</div>"
      ],
      "text/plain": [
       "   ID (Station ID)                 Station Names  \\\n",
       "0              1.0  Shaheed Sthal(First Station)   \n",
       "1              2.0                  Hindon River   \n",
       "2              3.0                       Arthala   \n",
       "3              4.0                   Mohan Nagar   \n",
       "4              5.0                    Shyam park   \n",
       "\n",
       "   Dist. From First Station(km) Metro Line Opened(Year)    Layout   Latitude  \\\n",
       "0                           0.0   Red line   08-03-2019  Elevated  28.670611   \n",
       "1                           1.0   Red line   08-03-2019  Elevated  28.878965   \n",
       "2                           2.5   Red line   08-03-2019  Elevated  28.676999   \n",
       "3                           3.2   Red line   08-03-2019  Elevated  28.606319   \n",
       "4                           4.5   Red line   08-03-2019  Elevated  28.698807   \n",
       "\n",
       "   Longitude  \n",
       "0  77.415582  \n",
       "1  77.415483  \n",
       "2  77.391892  \n",
       "3  77.106082  \n",
       "4  28.698807  "
      ]
     },
     "execution_count": 228,
     "metadata": {},
     "output_type": "execute_result"
    }
   ],
   "source": [
    "df.head()"
   ]
  },
  {
   "cell_type": "code",
   "execution_count": 229,
   "id": "dbe49879-acc4-418d-8bbd-e4265486443d",
   "metadata": {},
   "outputs": [
    {
     "data": {
      "text/html": [
       "<div>\n",
       "<style scoped>\n",
       "    .dataframe tbody tr th:only-of-type {\n",
       "        vertical-align: middle;\n",
       "    }\n",
       "\n",
       "    .dataframe tbody tr th {\n",
       "        vertical-align: top;\n",
       "    }\n",
       "\n",
       "    .dataframe thead th {\n",
       "        text-align: right;\n",
       "    }\n",
       "</style>\n",
       "<table border=\"1\" class=\"dataframe\">\n",
       "  <thead>\n",
       "    <tr style=\"text-align: right;\">\n",
       "      <th></th>\n",
       "      <th>ID (Station ID)</th>\n",
       "      <th>Station Names</th>\n",
       "      <th>Dist. From First Station(km)</th>\n",
       "      <th>Metro Line</th>\n",
       "      <th>Opened(Year)</th>\n",
       "      <th>Layout</th>\n",
       "      <th>Latitude</th>\n",
       "      <th>Longitude</th>\n",
       "    </tr>\n",
       "  </thead>\n",
       "  <tbody>\n",
       "    <tr>\n",
       "      <th>333</th>\n",
       "      <td>NaN</td>\n",
       "      <td>Conn: Pink</td>\n",
       "      <td>NaN</td>\n",
       "      <td>NaN</td>\n",
       "      <td>NaN</td>\n",
       "      <td>NaN</td>\n",
       "      <td>NaN</td>\n",
       "      <td>NaN</td>\n",
       "    </tr>\n",
       "    <tr>\n",
       "      <th>334</th>\n",
       "      <td>4.0</td>\n",
       "      <td>Delhi Aerocity</td>\n",
       "      <td>14.5</td>\n",
       "      <td>Orange line</td>\n",
       "      <td>15-08-2011</td>\n",
       "      <td>Underground</td>\n",
       "      <td>28.54881</td>\n",
       "      <td>77.12092</td>\n",
       "    </tr>\n",
       "    <tr>\n",
       "      <th>335</th>\n",
       "      <td>5.0</td>\n",
       "      <td>IGI Airport</td>\n",
       "      <td>17.9</td>\n",
       "      <td>Orange line</td>\n",
       "      <td>23-02-2011</td>\n",
       "      <td>Underground</td>\n",
       "      <td>28.55693</td>\n",
       "      <td>77.08669</td>\n",
       "    </tr>\n",
       "    <tr>\n",
       "      <th>336</th>\n",
       "      <td>6.0</td>\n",
       "      <td>Dwarka Sector 21</td>\n",
       "      <td>20.8</td>\n",
       "      <td>Orange line</td>\n",
       "      <td>23-02-2011</td>\n",
       "      <td>Underground</td>\n",
       "      <td>28.55226</td>\n",
       "      <td>77.05828</td>\n",
       "    </tr>\n",
       "    <tr>\n",
       "      <th>337</th>\n",
       "      <td>NaN</td>\n",
       "      <td>Conn: Blue</td>\n",
       "      <td>NaN</td>\n",
       "      <td>NaN</td>\n",
       "      <td>NaN</td>\n",
       "      <td>NaN</td>\n",
       "      <td>NaN</td>\n",
       "      <td>NaN</td>\n",
       "    </tr>\n",
       "  </tbody>\n",
       "</table>\n",
       "</div>"
      ],
      "text/plain": [
       "     ID (Station ID)     Station Names  Dist. From First Station(km)  \\\n",
       "333              NaN        Conn: Pink                           NaN   \n",
       "334              4.0    Delhi Aerocity                          14.5   \n",
       "335              5.0       IGI Airport                          17.9   \n",
       "336              6.0  Dwarka Sector 21                          20.8   \n",
       "337              NaN        Conn: Blue                           NaN   \n",
       "\n",
       "      Metro Line Opened(Year)       Layout  Latitude  Longitude  \n",
       "333          NaN          NaN          NaN       NaN        NaN  \n",
       "334  Orange line   15-08-2011  Underground  28.54881   77.12092  \n",
       "335  Orange line   23-02-2011  Underground  28.55693   77.08669  \n",
       "336  Orange line   23-02-2011  Underground  28.55226   77.05828  \n",
       "337          NaN          NaN          NaN       NaN        NaN  "
      ]
     },
     "execution_count": 229,
     "metadata": {},
     "output_type": "execute_result"
    }
   ],
   "source": [
    "df.tail()"
   ]
  },
  {
   "cell_type": "code",
   "execution_count": 230,
   "id": "8cedc1f5-f927-4b0a-9f0a-f982a8a581c4",
   "metadata": {},
   "outputs": [
    {
     "name": "stdout",
     "output_type": "stream",
     "text": [
      "<class 'pandas.core.frame.DataFrame'>\n",
      "RangeIndex: 338 entries, 0 to 337\n",
      "Data columns (total 8 columns):\n",
      " #   Column                        Non-Null Count  Dtype  \n",
      "---  ------                        --------------  -----  \n",
      " 0   ID (Station ID)               285 non-null    float64\n",
      " 1   Station Names                 335 non-null    object \n",
      " 2   Dist. From First Station(km)  285 non-null    float64\n",
      " 3   Metro Line                    285 non-null    object \n",
      " 4   Opened(Year)                  285 non-null    object \n",
      " 5   Layout                        285 non-null    object \n",
      " 6   Latitude                      286 non-null    float64\n",
      " 7   Longitude                     286 non-null    float64\n",
      "dtypes: float64(4), object(4)\n",
      "memory usage: 21.3+ KB\n"
     ]
    }
   ],
   "source": [
    "df.info()"
   ]
  },
  {
   "cell_type": "code",
   "execution_count": 231,
   "id": "9862a54d-1e2b-46f1-8ff6-1643c6f07d4f",
   "metadata": {},
   "outputs": [
    {
     "data": {
      "text/plain": [
       "(338, 8)"
      ]
     },
     "execution_count": 231,
     "metadata": {},
     "output_type": "execute_result"
    }
   ],
   "source": [
    "df.shape "
   ]
  },
  {
   "cell_type": "code",
   "execution_count": 232,
   "id": "1fa21846-7e98-4448-9f7f-23967f0351f0",
   "metadata": {},
   "outputs": [
    {
     "data": {
      "text/plain": [
       "ID (Station ID)                 53\n",
       "Station Names                    3\n",
       "Dist. From First Station(km)    53\n",
       "Metro Line                      53\n",
       "Opened(Year)                    53\n",
       "Layout                          53\n",
       "Latitude                        52\n",
       "Longitude                       52\n",
       "dtype: int64"
      ]
     },
     "execution_count": 232,
     "metadata": {},
     "output_type": "execute_result"
    }
   ],
   "source": [
    "df.isnull().sum()"
   ]
  },
  {
   "cell_type": "code",
   "execution_count": 233,
   "id": "980f7655-2fe2-441f-b3be-518a37e993ff",
   "metadata": {},
   "outputs": [
    {
     "data": {
      "text/html": [
       "<div>\n",
       "<style scoped>\n",
       "    .dataframe tbody tr th:only-of-type {\n",
       "        vertical-align: middle;\n",
       "    }\n",
       "\n",
       "    .dataframe tbody tr th {\n",
       "        vertical-align: top;\n",
       "    }\n",
       "\n",
       "    .dataframe thead th {\n",
       "        text-align: right;\n",
       "    }\n",
       "</style>\n",
       "<table border=\"1\" class=\"dataframe\">\n",
       "  <thead>\n",
       "    <tr style=\"text-align: right;\">\n",
       "      <th></th>\n",
       "      <th>ID (Station ID)</th>\n",
       "      <th>Station Names</th>\n",
       "      <th>Dist. From First Station(km)</th>\n",
       "      <th>Metro Line</th>\n",
       "      <th>Opened(Year)</th>\n",
       "      <th>Layout</th>\n",
       "      <th>Latitude</th>\n",
       "      <th>Longitude</th>\n",
       "    </tr>\n",
       "  </thead>\n",
       "  <tbody>\n",
       "    <tr>\n",
       "      <th>0</th>\n",
       "      <td>1.0</td>\n",
       "      <td>Shaheed Sthal(First Station)</td>\n",
       "      <td>0.0</td>\n",
       "      <td>Red line</td>\n",
       "      <td>08-03-2019</td>\n",
       "      <td>Elevated</td>\n",
       "      <td>28.670611</td>\n",
       "      <td>77.415582</td>\n",
       "    </tr>\n",
       "    <tr>\n",
       "      <th>1</th>\n",
       "      <td>2.0</td>\n",
       "      <td>Hindon River</td>\n",
       "      <td>1.0</td>\n",
       "      <td>Red line</td>\n",
       "      <td>08-03-2019</td>\n",
       "      <td>Elevated</td>\n",
       "      <td>28.878965</td>\n",
       "      <td>77.415483</td>\n",
       "    </tr>\n",
       "    <tr>\n",
       "      <th>2</th>\n",
       "      <td>3.0</td>\n",
       "      <td>Arthala</td>\n",
       "      <td>2.5</td>\n",
       "      <td>Red line</td>\n",
       "      <td>08-03-2019</td>\n",
       "      <td>Elevated</td>\n",
       "      <td>28.676999</td>\n",
       "      <td>77.391892</td>\n",
       "    </tr>\n",
       "    <tr>\n",
       "      <th>3</th>\n",
       "      <td>4.0</td>\n",
       "      <td>Mohan Nagar</td>\n",
       "      <td>3.2</td>\n",
       "      <td>Red line</td>\n",
       "      <td>08-03-2019</td>\n",
       "      <td>Elevated</td>\n",
       "      <td>28.606319</td>\n",
       "      <td>77.106082</td>\n",
       "    </tr>\n",
       "    <tr>\n",
       "      <th>4</th>\n",
       "      <td>5.0</td>\n",
       "      <td>Shyam park</td>\n",
       "      <td>4.5</td>\n",
       "      <td>Red line</td>\n",
       "      <td>08-03-2019</td>\n",
       "      <td>Elevated</td>\n",
       "      <td>28.698807</td>\n",
       "      <td>28.698807</td>\n",
       "    </tr>\n",
       "    <tr>\n",
       "      <th>...</th>\n",
       "      <td>...</td>\n",
       "      <td>...</td>\n",
       "      <td>...</td>\n",
       "      <td>...</td>\n",
       "      <td>...</td>\n",
       "      <td>...</td>\n",
       "      <td>...</td>\n",
       "      <td>...</td>\n",
       "    </tr>\n",
       "    <tr>\n",
       "      <th>331</th>\n",
       "      <td>2.0</td>\n",
       "      <td>Shivaji Stadium</td>\n",
       "      <td>1.9</td>\n",
       "      <td>Orange line</td>\n",
       "      <td>23-02-2011</td>\n",
       "      <td>Underground</td>\n",
       "      <td>28.629010</td>\n",
       "      <td>77.211900</td>\n",
       "    </tr>\n",
       "    <tr>\n",
       "      <th>332</th>\n",
       "      <td>3.0</td>\n",
       "      <td>Dhaula Kuan</td>\n",
       "      <td>8.3</td>\n",
       "      <td>Orange line</td>\n",
       "      <td>15-08-2011</td>\n",
       "      <td>Elevated</td>\n",
       "      <td>28.591780</td>\n",
       "      <td>77.161550</td>\n",
       "    </tr>\n",
       "    <tr>\n",
       "      <th>334</th>\n",
       "      <td>4.0</td>\n",
       "      <td>Delhi Aerocity</td>\n",
       "      <td>14.5</td>\n",
       "      <td>Orange line</td>\n",
       "      <td>15-08-2011</td>\n",
       "      <td>Underground</td>\n",
       "      <td>28.548810</td>\n",
       "      <td>77.120920</td>\n",
       "    </tr>\n",
       "    <tr>\n",
       "      <th>335</th>\n",
       "      <td>5.0</td>\n",
       "      <td>IGI Airport</td>\n",
       "      <td>17.9</td>\n",
       "      <td>Orange line</td>\n",
       "      <td>23-02-2011</td>\n",
       "      <td>Underground</td>\n",
       "      <td>28.556930</td>\n",
       "      <td>77.086690</td>\n",
       "    </tr>\n",
       "    <tr>\n",
       "      <th>336</th>\n",
       "      <td>6.0</td>\n",
       "      <td>Dwarka Sector 21</td>\n",
       "      <td>20.8</td>\n",
       "      <td>Orange line</td>\n",
       "      <td>23-02-2011</td>\n",
       "      <td>Underground</td>\n",
       "      <td>28.552260</td>\n",
       "      <td>77.058280</td>\n",
       "    </tr>\n",
       "  </tbody>\n",
       "</table>\n",
       "<p>284 rows × 8 columns</p>\n",
       "</div>"
      ],
      "text/plain": [
       "     ID (Station ID)                 Station Names  \\\n",
       "0                1.0  Shaheed Sthal(First Station)   \n",
       "1                2.0                  Hindon River   \n",
       "2                3.0                       Arthala   \n",
       "3                4.0                   Mohan Nagar   \n",
       "4                5.0                    Shyam park   \n",
       "..               ...                           ...   \n",
       "331              2.0               Shivaji Stadium   \n",
       "332              3.0                   Dhaula Kuan   \n",
       "334              4.0                Delhi Aerocity   \n",
       "335              5.0                   IGI Airport   \n",
       "336              6.0              Dwarka Sector 21   \n",
       "\n",
       "     Dist. From First Station(km)   Metro Line Opened(Year)       Layout  \\\n",
       "0                             0.0     Red line   08-03-2019     Elevated   \n",
       "1                             1.0     Red line   08-03-2019     Elevated   \n",
       "2                             2.5     Red line   08-03-2019     Elevated   \n",
       "3                             3.2     Red line   08-03-2019     Elevated   \n",
       "4                             4.5     Red line   08-03-2019     Elevated   \n",
       "..                            ...          ...          ...          ...   \n",
       "331                           1.9  Orange line   23-02-2011  Underground   \n",
       "332                           8.3  Orange line   15-08-2011     Elevated   \n",
       "334                          14.5  Orange line   15-08-2011  Underground   \n",
       "335                          17.9  Orange line   23-02-2011  Underground   \n",
       "336                          20.8  Orange line   23-02-2011  Underground   \n",
       "\n",
       "      Latitude  Longitude  \n",
       "0    28.670611  77.415582  \n",
       "1    28.878965  77.415483  \n",
       "2    28.676999  77.391892  \n",
       "3    28.606319  77.106082  \n",
       "4    28.698807  28.698807  \n",
       "..         ...        ...  \n",
       "331  28.629010  77.211900  \n",
       "332  28.591780  77.161550  \n",
       "334  28.548810  77.120920  \n",
       "335  28.556930  77.086690  \n",
       "336  28.552260  77.058280  \n",
       "\n",
       "[284 rows x 8 columns]"
      ]
     },
     "execution_count": 233,
     "metadata": {},
     "output_type": "execute_result"
    }
   ],
   "source": [
    "df = df.dropna()\n",
    "df"
   ]
  },
  {
   "cell_type": "code",
   "execution_count": 234,
   "id": "e329a51d-74e5-4378-8fb3-f9a3d463bbd5",
   "metadata": {},
   "outputs": [
    {
     "name": "stdout",
     "output_type": "stream",
     "text": [
      "<class 'pandas.core.frame.DataFrame'>\n",
      "Index: 284 entries, 0 to 336\n",
      "Data columns (total 8 columns):\n",
      " #   Column                        Non-Null Count  Dtype  \n",
      "---  ------                        --------------  -----  \n",
      " 0   ID (Station ID)               284 non-null    float64\n",
      " 1   Station Names                 284 non-null    object \n",
      " 2   Dist. From First Station(km)  284 non-null    float64\n",
      " 3   Metro Line                    284 non-null    object \n",
      " 4   Opened(Year)                  284 non-null    object \n",
      " 5   Layout                        284 non-null    object \n",
      " 6   Latitude                      284 non-null    float64\n",
      " 7   Longitude                     284 non-null    float64\n",
      "dtypes: float64(4), object(4)\n",
      "memory usage: 20.0+ KB\n"
     ]
    }
   ],
   "source": [
    "df.info()"
   ]
  },
  {
   "cell_type": "code",
   "execution_count": 235,
   "id": "df0fd19c-fba9-4f8a-bf13-481c914cb175",
   "metadata": {},
   "outputs": [
    {
     "data": {
      "text/plain": [
       "ID (Station ID)                 0\n",
       "Station Names                   0\n",
       "Dist. From First Station(km)    0\n",
       "Metro Line                      0\n",
       "Opened(Year)                    0\n",
       "Layout                          0\n",
       "Latitude                        0\n",
       "Longitude                       0\n",
       "dtype: int64"
      ]
     },
     "execution_count": 235,
     "metadata": {},
     "output_type": "execute_result"
    }
   ],
   "source": [
    "df.isnull().sum()"
   ]
  },
  {
   "cell_type": "code",
   "execution_count": 236,
   "id": "7b9f8811-f775-42aa-a0a3-14a1fac99ee3",
   "metadata": {},
   "outputs": [],
   "source": [
    "line_color = {\n",
    "    'Red line' : 'Red',\n",
    "    'Yellow line' : 'Yellow',\n",
    "    'Blue line' : 'Blue',\n",
    "    'Blue line branch' : 'Blue',\n",
    "    'Green line branch' : 'Green',\n",
    "    'Green line' : 'Green',\n",
    "    'Rapid Metro' : 'Cyan',\n",
    "    'Voilet line' : 'Violet', \n",
    "    'Magenta line' : 'Magenta',\n",
    "    'Pink line' : 'Pink',\n",
    "    'Aqua line' : 'Aqua',\n",
    "    'Gray line' : 'Gray',\n",
    "    'Orange line' : 'Orange',\n",
    "\n",
    "}"
   ]
  },
  {
   "cell_type": "code",
   "execution_count": 237,
   "id": "85c549b0-ce47-41a8-8e62-2bbf54b96625",
   "metadata": {},
   "outputs": [],
   "source": [
    "line_counts = df['Metro Line'].value_counts()"
   ]
  },
  {
   "cell_type": "code",
   "execution_count": 238,
   "id": "3392ab25-70e3-40fe-96da-65845f6d16ee",
   "metadata": {},
   "outputs": [
    {
     "data": {
      "image/png": "[encoded data removed]",
      "text/plain": [
       "<Figure size 640x480 with 1 Axes>"
      ]
     },
     "metadata": {},
     "output_type": "display_data"
    }
   ],
   "source": [
    "plt.pie(line_counts, labels=line_counts.index, autopct='%1.1f%%', \n",
    "        colors=[line_color[line] for line in line_counts.index])\n",
    "plt.title('Metro line')\n",
    "plt.show()"
   ]
  },
  {
   "cell_type": "code",
   "execution_count": 239,
   "id": "61bbfd8f-84cc-466f-a661-cfaf35979e5f",
   "metadata": {},
   "outputs": [],
   "source": [
    "layout_counts = df['Layout'].value_counts()"
   ]
  },
  {
   "cell_type": "code",
   "execution_count": 240,
   "id": "850f3615-084d-4afa-9253-506af461be2c",
   "metadata": {},
   "outputs": [],
   "source": [
    "fig = px.bar(x=layout_counts.index, y=layout_counts.values,\n",
    "labels={'x': 'Station Layout', 'y': 'Number of Stations'},\n",
    "title='Distributions of Delhi Metro',\n",
    "color=layout_counts.index,\n",
    "color_continuous_scale='pastel')"
   ]
  },
  {
   "cell_type": "code",
   "execution_count": 241,
   "id": "39b4db63-082b-4387-8dbb-d9711b2dd086",
   "metadata": {},
   "outputs": [
    {
     "data": {
      "application/vnd.plotly.v1+json": {
       "config": {
        "plotlyServerURL": "https://plot.ly"
       },
       "data": [
        {
         "alignmentgroup": "True",
         "hovertemplate": "color=Elevated<br>Station Layout=%{x}<br>Number of Stations=%{y}<extra></extra>",
         "legendgroup": "Elevated",
         "marker": {
          "color": "#636efa",
          "pattern": {
           "shape": ""
          }
         },
         "name": "Elevated",
         "offsetgroup": "Elevated",
         "orientation": "v",
         "showlegend": true,
         "textposition": "auto",
         "type": "bar",
         "x": [
          "Elevated"
         ],
         "xaxis": "x",
         "y": [
          213
         ],
         "yaxis": "y"
        },
        {
         "alignmentgroup": "True",
         "hovertemplate": "color=Underground<br>Station Layout=%{x}<br>Number of Stations=%{y}<extra></extra>",
         "legendgroup": "Underground",
         "marker": {
          "color": "#EF553B",
          "pattern": {
           "shape": ""
          }
         },
         "name": "Underground",
         "offsetgroup": "Underground",
         "orientation": "v",
         "showlegend": true,
         "textposition": "auto",
         "type": "bar",
         "x": [
          "Underground"
         ],
         "xaxis": "x",
         "y": [
          68
         ],
         "yaxis": "y"
        },
        {
         "alignmentgroup": "True",
         "hovertemplate": "color=At-Grade<br>Station Layout=%{x}<br>Number of Stations=%{y}<extra></extra>",
         "legendgroup": "At-Grade",
         "marker": {
          "color": "#00cc96",
          "pattern": {
           "shape": ""
          }
         },
         "name": "At-Grade",
         "offsetgroup": "At-Grade",
         "orientation": "v",
         "showlegend": true,
         "textposition": "auto",
         "type": "bar",
         "x": [
          "At-Grade"
         ],
         "xaxis": "x",
         "y": [
          3
         ],
         "yaxis": "y"
        }
       ],
       "layout": {
        "barmode": "relative",
        "legend": {
         "title": {
          "text": "color"
         },
         "tracegroupgap": 0
        },
        "template": {
         "data": {
          "bar": [
           {
            "error_x": {
             "color": "#2a3f5f"
            },
            "error_y": {
             "color": "#2a3f5f"
            },
            "marker": {
             "line": {
              "color": "white",
              "width": 0.5
             },
             "pattern": {
              "fillmode": "overlay",
              "size": 10,
              "solidity": 0.2
             }
            },
            "type": "bar"
           }
          ],
          "barpolar": [
           {
            "marker": {
             "line": {
              "color": "white",
              "width": 0.5
             },
             "pattern": {
              "fillmode": "overlay",
              "size": 10,
              "solidity": 0.2
             }
            },
            "type": "barpolar"
           }
          ],
          "carpet": [
           {
            "aaxis": {
             "endlinecolor": "#2a3f5f",
             "gridcolor": "#C8D4E3",
             "linecolor": "#C8D4E3",
             "minorgridcolor": "#C8D4E3",
             "startlinecolor": "#2a3f5f"
            },
            "baxis": {
             "endlinecolor": "#2a3f5f",
             "gridcolor": "#C8D4E3",
             "linecolor": "#C8D4E3",
             "minorgridcolor": "#C8D4E3",
             "startlinecolor": "#2a3f5f"
            },
            "type": "carpet"
           }
          ],
          "choropleth": [
           {
            "colorbar": {
             "outlinewidth": 0,
             "ticks": ""
            },
            "type": "choropleth"
           }
          ],
          "contour": [
           {
            "colorbar": {
             "outlinewidth": 0,
             "ticks": ""
            },
            "colorscale": [
             [
              0,
              "#0d0887"
             ],
             [
              0.1111111111111111,
              "#46039f"
             ],
             [
              0.2222222222222222,
              "#7201a8"
             ],
             [
              0.3333333333333333,
              "#9c179e"
             ],
             [
              0.4444444444444444,
              "#bd3786"
             ],
             [
              0.5555555555555556,
              "#d8576b"
             ],
             [
              0.6666666666666666,
              "#ed7953"
             ],
             [
              0.7777777777777778,
              "#fb9f3a"
             ],
             [
              0.8888888888888888,
              "#fdca26"
             ],
             [
              1,
              "#f0f921"
             ]
            ],
            "type": "contour"
           }
          ],
          "contourcarpet": [
           {
            "colorbar": {
             "outlinewidth": 0,
             "ticks": ""
            },
            "type": "contourcarpet"
           }
          ],
          "heatmap": [
           {
            "colorbar": {
             "outlinewidth": 0,
             "ticks": ""
            },
            "colorscale": [
             [
              0,
              "#0d0887"
             ],
             [
              0.1111111111111111,
              "#46039f"
             ],
             [
              0.2222222222222222,
              "#7201a8"
             ],
             [
              0.3333333333333333,
              "#9c179e"
             ],
             [
              0.4444444444444444,
              "#bd3786"
             ],
             [
              0.5555555555555556,
              "#d8576b"
             ],
             [
              0.6666666666666666,
              "#ed7953"
             ],
             [
              0.7777777777777778,
              "#fb9f3a"
             ],
             [
              0.8888888888888888,
              "#fdca26"
             ],
             [
              1,
              "#f0f921"
             ]
            ],
            "type": "heatmap"
           }
          ],
          "heatmapgl": [
           {
            "colorbar": {
             "outlinewidth": 0,
             "ticks": ""
            },
            "colorscale": [
             [
              0,
              "#0d0887"
             ],
             [
              0.1111111111111111,
              "#46039f"
             ],
             [
              0.2222222222222222,
              "#7201a8"
             ],
             [
              0.3333333333333333,
              "#9c179e"
             ],
             [
              0.4444444444444444,
              "#bd3786"
             ],
             [
              0.5555555555555556,
              "#d8576b"
             ],
             [
              0.6666666666666666,
              "#ed7953"
             ],
             [
              0.7777777777777778,
              "#fb9f3a"
             ],
             [
              0.8888888888888888,
              "#fdca26"
             ],
             [
              1,
              "#f0f921"
             ]
            ],
            "type": "heatmapgl"
           }
          ],
          "histogram": [
           {
            "marker": {
             "pattern": {
              "fillmode": "overlay",
              "size": 10,
              "solidity": 0.2
             }
            },
            "type": "histogram"
           }
          ],
          "histogram2d": [
           {
            "colorbar": {
             "outlinewidth": 0,
             "ticks": ""
            },
            "colorscale": [
             [
              0,
              "#0d0887"
             ],
             [
              0.1111111111111111,
              "#46039f"
             ],
             [
              0.2222222222222222,
              "#7201a8"
             ],
             [
              0.3333333333333333,
              "#9c179e"
             ],
             [
              0.4444444444444444,
              "#bd3786"
             ],
             [
              0.5555555555555556,
              "#d8576b"
             ],
             [
              0.6666666666666666,
              "#ed7953"
             ],
             [
              0.7777777777777778,
              "#fb9f3a"
             ],
             [
              0.8888888888888888,
              "#fdca26"
             ],
             [
              1,
              "#f0f921"
             ]
            ],
            "type": "histogram2d"
           }
          ],
          "histogram2dcontour": [
           {
            "colorbar": {
             "outlinewidth": 0,
             "ticks": ""
            },
            "colorscale": [
             [
              0,
              "#0d0887"
             ],
             [
              0.1111111111111111,
              "#46039f"
             ],
             [
              0.2222222222222222,
              "#7201a8"
             ],
             [
              0.3333333333333333,
              "#9c179e"
             ],
             [
              0.4444444444444444,
              "#bd3786"
             ],
             [
              0.5555555555555556,
              "#d8576b"
             ],
             [
              0.6666666666666666,
              "#ed7953"
             ],
             [
              0.7777777777777778,
              "#fb9f3a"
             ],
             [
              0.8888888888888888,
              "#fdca26"
             ],
             [
              1,
              "#f0f921"
             ]
            ],
            "type": "histogram2dcontour"
           }
          ],
          "mesh3d": [
           {
            "colorbar": {
             "outlinewidth": 0,
             "ticks": ""
            },
            "type": "mesh3d"
           }
          ],
          "parcoords": [
           {
            "line": {
             "colorbar": {
              "outlinewidth": 0,
              "ticks": ""
             }
            },
            "type": "parcoords"
           }
          ],
          "pie": [
           {
            "automargin": true,
            "type": "pie"
           }
          ],
          "scatter": [
           {
            "fillpattern": {
             "fillmode": "overlay",
             "size": 10,
             "solidity": 0.2
            },
            "type": "scatter"
           }
          ],
          "scatter3d": [
           {
            "line": {
             "colorbar": {
              "outlinewidth": 0,
              "ticks": ""
             }
            },
            "marker": {
             "colorbar": {
              "outlinewidth": 0,
              "ticks": ""
             }
            },
            "type": "scatter3d"
           }
          ],
          "scattercarpet": [
           {
            "marker": {
             "colorbar": {
              "outlinewidth": 0,
              "ticks": ""
             }
            },
            "type": "scattercarpet"
           }
          ],
          "scattergeo": [
           {
            "marker": {
             "colorbar": {
              "outlinewidth": 0,
              "ticks": ""
             }
            },
            "type": "scattergeo"
           }
          ],
          "scattergl": [
           {
            "marker": {
             "colorbar": {
              "outlinewidth": 0,
              "ticks": ""
             }
            },
            "type": "scattergl"
           }
          ],
          "scattermapbox": [
           {
            "marker": {
             "colorbar": {
              "outlinewidth": 0,
              "ticks": ""
             }
            },
            "type": "scattermapbox"
           }
          ],
          "scatterpolar": [
           {
            "marker": {
             "colorbar": {
              "outlinewidth": 0,
              "ticks": ""
             }
            },
            "type": "scatterpolar"
           }
          ],
          "scatterpolargl": [
           {
            "marker": {
             "colorbar": {
              "outlinewidth": 0,
              "ticks": ""
             }
            },
            "type": "scatterpolargl"
           }
          ],
          "scatterternary": [
           {
            "marker": {
             "colorbar": {
              "outlinewidth": 0,
              "ticks": ""
             }
            },
            "type": "scatterternary"
           }
          ],
          "surface": [
           {
            "colorbar": {
             "outlinewidth": 0,
             "ticks": ""
            },
            "colorscale": [
             [
              0,
              "#0d0887"
             ],
             [
              0.1111111111111111,
              "#46039f"
             ],
             [
              0.2222222222222222,
              "#7201a8"
             ],
             [
              0.3333333333333333,
              "#9c179e"
             ],
             [
              0.4444444444444444,
              "#bd3786"
             ],
             [
              0.5555555555555556,
              "#d8576b"
             ],
             [
              0.6666666666666666,
              "#ed7953"
             ],
             [
              0.7777777777777778,
              "#fb9f3a"
             ],
             [
              0.8888888888888888,
              "#fdca26"
             ],
             [
              1,
              "#f0f921"
             ]
            ],
            "type": "surface"
           }
          ],
          "table": [
           {
            "cells": {
             "fill": {
              "color": "#EBF0F8"
             },
             "line": {
              "color": "white"
             }
            },
            "header": {
             "fill": {
              "color": "#C8D4E3"
             },
             "line": {
              "color": "white"
             }
            },
            "type": "table"
           }
          ]
         },
         "layout": {
          "annotationdefaults": {
           "arrowcolor": "#2a3f5f",
           "arrowhead": 0,
           "arrowwidth": 1
          },
          "autotypenumbers": "strict",
          "coloraxis": {
           "colorbar": {
            "outlinewidth": 0,
            "ticks": ""
           }
          },
          "colorscale": {
           "diverging": [
            [
             0,
             "#8e0152"
            ],
            [
             0.1,
             "#c51b7d"
            ],
            [
             0.2,
             "#de77ae"
            ],
            [
             0.3,
             "#f1b6da"
            ],
            [
             0.4,
             "#fde0ef"
            ],
            [
             0.5,
             "#f7f7f7"
            ],
            [
             0.6,
             "#e6f5d0"
            ],
            [
             0.7,
             "#b8e186"
            ],
            [
             0.8,
             "#7fbc41"
            ],
            [
             0.9,
             "#4d9221"
            ],
            [
             1,
             "#276419"
            ]
           ],
           "sequential": [
            [
             0,
             "#0d0887"
            ],
            [
             0.1111111111111111,
             "#46039f"
            ],
            [
             0.2222222222222222,
             "#7201a8"
            ],
            [
             0.3333333333333333,
             "#9c179e"
            ],
            [
             0.4444444444444444,
             "#bd3786"
            ],
            [
             0.5555555555555556,
             "#d8576b"
            ],
            [
             0.6666666666666666,
             "#ed7953"
            ],
            [
             0.7777777777777778,
             "#fb9f3a"
            ],
            [
             0.8888888888888888,
             "#fdca26"
            ],
            [
             1,
             "#f0f921"
            ]
           ],
           "sequentialminus": [
            [
             0,
             "#0d0887"
            ],
            [
             0.1111111111111111,
             "#46039f"
            ],
            [
             0.2222222222222222,
             "#7201a8"
            ],
            [
             0.3333333333333333,
             "#9c179e"
            ],
            [
             0.4444444444444444,
             "#bd3786"
            ],
            [
             0.5555555555555556,
             "#d8576b"
            ],
            [
             0.6666666666666666,
             "#ed7953"
            ],
            [
             0.7777777777777778,
             "#fb9f3a"
            ],
            [
             0.8888888888888888,
             "#fdca26"
            ],
            [
             1,
             "#f0f921"
            ]
           ]
          },
          "colorway": [
           "#636efa",
           "#EF553B",
           "#00cc96",
           "#ab63fa",
           "#FFA15A",
           "#19d3f3",
           "#FF6692",
           "#B6E880",
           "#FF97FF",
           "#FECB52"
          ],
          "font": {
           "color": "#2a3f5f"
          },
          "geo": {
           "bgcolor": "white",
           "lakecolor": "white",
           "landcolor": "white",
           "showlakes": true,
           "showland": true,
           "subunitcolor": "#C8D4E3"
          },
          "hoverlabel": {
           "align": "left"
          },
          "hovermode": "closest",
          "mapbox": {
           "style": "light"
          },
          "paper_bgcolor": "white",
          "plot_bgcolor": "white",
          "polar": {
           "angularaxis": {
            "gridcolor": "#EBF0F8",
            "linecolor": "#EBF0F8",
            "ticks": ""
           },
           "bgcolor": "white",
           "radialaxis": {
            "gridcolor": "#EBF0F8",
            "linecolor": "#EBF0F8",
            "ticks": ""
           }
          },
          "scene": {
           "xaxis": {
            "backgroundcolor": "white",
            "gridcolor": "#DFE8F3",
            "gridwidth": 2,
            "linecolor": "#EBF0F8",
            "showbackground": true,
            "ticks": "",
            "zerolinecolor": "#EBF0F8"
           },
           "yaxis": {
            "backgroundcolor": "white",
            "gridcolor": "#DFE8F3",
            "gridwidth": 2,
            "linecolor": "#EBF0F8",
            "showbackground": true,
            "ticks": "",
            "zerolinecolor": "#EBF0F8"
           },
           "zaxis": {
            "backgroundcolor": "white",
            "gridcolor": "#DFE8F3",
            "gridwidth": 2,
            "linecolor": "#EBF0F8",
            "showbackground": true,
            "ticks": "",
            "zerolinecolor": "#EBF0F8"
           }
          },
          "shapedefaults": {
           "line": {
            "color": "#2a3f5f"
           }
          },
          "ternary": {
           "aaxis": {
            "gridcolor": "#DFE8F3",
            "linecolor": "#A2B1C6",
            "ticks": ""
           },
           "baxis": {
            "gridcolor": "#DFE8F3",
            "linecolor": "#A2B1C6",
            "ticks": ""
           },
           "bgcolor": "white",
           "caxis": {
            "gridcolor": "#DFE8F3",
            "linecolor": "#A2B1C6",
            "ticks": ""
           }
          },
          "title": {
           "x": 0.05
          },
          "xaxis": {
           "automargin": true,
           "gridcolor": "#EBF0F8",
           "linecolor": "#EBF0F8",
           "ticks": "",
           "title": {
            "standoff": 15
           },
           "zerolinecolor": "#EBF0F8",
           "zerolinewidth": 2
          },
          "yaxis": {
           "automargin": true,
           "gridcolor": "#EBF0F8",
           "linecolor": "#EBF0F8",
           "ticks": "",
           "title": {
            "standoff": 15
           },
           "zerolinecolor": "#EBF0F8",
           "zerolinewidth": 2
          }
         }
        },
        "title": {
         "text": "Distributions of Delhi Metro"
        },
        "xaxis": {
         "anchor": "y",
         "domain": [
          0,
          1
         ],
         "title": {
          "text": "Station Layout"
         }
        },
        "yaxis": {
         "anchor": "x",
         "domain": [
          0,
          1
         ],
         "title": {
          "text": "Number of Stations"
         }
        }
       }
      },
      "text/html": [
       "<div>                            <div id=\"15201094-9498-421d-91c2-36c9045f9180\" class=\"plotly-graph-div\" style=\"height:525px; width:100%;\"></div>            <script type=\"text/javascript\">                require([\"plotly\"], function(Plotly) {                    window.PLOTLYENV=window.PLOTLYENV || {};                                    if (document.getElementById(\"15201094-9498-421d-91c2-36c9045f9180\")) {                    Plotly.newPlot(                        \"15201094-9498-421d-91c2-36c9045f9180\",                        [{\"alignmentgroup\":\"True\",\"hovertemplate\":\"color=Elevated\\u003cbr\\u003eStation Layout=%{x}\\u003cbr\\u003eNumber of Stations=%{y}\\u003cextra\\u003e\\u003c\\u002fextra\\u003e\",\"legendgroup\":\"Elevated\",\"marker\":{\"color\":\"#636efa\",\"pattern\":{\"shape\":\"\"}},\"name\":\"Elevated\",\"offsetgroup\":\"Elevated\",\"orientation\":\"v\",\"showlegend\":true,\"textposition\":\"auto\",\"x\":[\"Elevated\"],\"xaxis\":\"x\",\"y\":[213],\"yaxis\":\"y\",\"type\":\"bar\"},{\"alignmentgroup\":\"True\",\"hovertemplate\":\"color=Underground\\u003cbr\\u003eStation Layout=%{x}\\u003cbr\\u003eNumber of Stations=%{y}\\u003cextra\\u003e\\u003c\\u002fextra\\u003e\",\"legendgroup\":\"Underground\",\"marker\":{\"color\":\"#EF553B\",\"pattern\":{\"shape\":\"\"}},\"name\":\"Underground\",\"offsetgroup\":\"Underground\",\"orientation\":\"v\",\"showlegend\":true,\"textposition\":\"auto\",\"x\":[\"Underground\"],\"xaxis\":\"x\",\"y\":[68],\"yaxis\":\"y\",\"type\":\"bar\"},{\"alignmentgroup\":\"True\",\"hovertemplate\":\"color=At-Grade\\u003cbr\\u003eStation Layout=%{x}\\u003cbr\\u003eNumber of Stations=%{y}\\u003cextra\\u003e\\u003c\\u002fextra\\u003e\",\"legendgroup\":\"At-Grade\",\"marker\":{\"color\":\"#00cc96\",\"pattern\":{\"shape\":\"\"}},\"name\":\"At-Grade\",\"offsetgroup\":\"At-Grade\",\"orientation\":\"v\",\"showlegend\":true,\"textposition\":\"auto\",\"x\":[\"At-Grade\"],\"xaxis\":\"x\",\"y\":[3],\"yaxis\":\"y\",\"type\":\"bar\"}],                        {\"template\":{\"data\":{\"histogram2dcontour\":[{\"type\":\"histogram2dcontour\",\"colorbar\":{\"outlinewidth\":0,\"ticks\":\"\"},\"colorscale\":[[0.0,\"#0d0887\"],[0.1111111111111111,\"#46039f\"],[0.2222222222222222,\"#7201a8\"],[0.3333333333333333,\"#9c179e\"],[0.4444444444444444,\"#bd3786\"],[0.5555555555555556,\"#d8576b\"],[0.6666666666666666,\"#ed7953\"],[0.7777777777777778,\"#fb9f3a\"],[0.8888888888888888,\"#fdca26\"],[1.0,\"#f0f921\"]]}],\"choropleth\":[{\"type\":\"choropleth\",\"colorbar\":{\"outlinewidth\":0,\"ticks\":\"\"}}],\"histogram2d\":[{\"type\":\"histogram2d\",\"colorbar\":{\"outlinewidth\":0,\"ticks\":\"\"},\"colorscale\":[[0.0,\"#0d0887\"],[0.1111111111111111,\"#46039f\"],[0.2222222222222222,\"#7201a8\"],[0.3333333333333333,\"#9c179e\"],[0.4444444444444444,\"#bd3786\"],[0.5555555555555556,\"#d8576b\"],[0.6666666666666666,\"#ed7953\"],[0.7777777777777778,\"#fb9f3a\"],[0.8888888888888888,\"#fdca26\"],[1.0,\"#f0f921\"]]}],\"heatmap\":[{\"type\":\"heatmap\",\"colorbar\":{\"outlinewidth\":0,\"ticks\":\"\"},\"colorscale\":[[0.0,\"#0d0887\"],[0.1111111111111111,\"#46039f\"],[0.2222222222222222,\"#7201a8\"],[0.3333333333333333,\"#9c179e\"],[0.4444444444444444,\"#bd3786\"],[0.5555555555555556,\"#d8576b\"],[0.6666666666666666,\"#ed7953\"],[0.7777777777777778,\"#fb9f3a\"],[0.8888888888888888,\"#fdca26\"],[1.0,\"#f0f921\"]]}],\"heatmapgl\":[{\"type\":\"heatmapgl\",\"colorbar\":{\"outlinewidth\":0,\"ticks\":\"\"},\"colorscale\":[[0.0,\"#0d0887\"],[0.1111111111111111,\"#46039f\"],[0.2222222222222222,\"#7201a8\"],[0.3333333333333333,\"#9c179e\"],[0.4444444444444444,\"#bd3786\"],[0.5555555555555556,\"#d8576b\"],[0.6666666666666666,\"#ed7953\"],[0.7777777777777778,\"#fb9f3a\"],[0.8888888888888888,\"#fdca26\"],[1.0,\"#f0f921\"]]}],\"contourcarpet\":[{\"type\":\"contourcarpet\",\"colorbar\":{\"outlinewidth\":0,\"ticks\":\"\"}}],\"contour\":[{\"type\":\"contour\",\"colorbar\":{\"outlinewidth\":0,\"ticks\":\"\"},\"colorscale\":[[0.0,\"#0d0887\"],[0.1111111111111111,\"#46039f\"],[0.2222222222222222,\"#7201a8\"],[0.3333333333333333,\"#9c179e\"],[0.4444444444444444,\"#bd3786\"],[0.5555555555555556,\"#d8576b\"],[0.6666666666666666,\"#ed7953\"],[0.7777777777777778,\"#fb9f3a\"],[0.8888888888888888,\"#fdca26\"],[1.0,\"#f0f921\"]]}],\"surface\":[{\"type\":\"surface\",\"colorbar\":{\"outlinewidth\":0,\"ticks\":\"\"},\"colorscale\":[[0.0,\"#0d0887\"],[0.1111111111111111,\"#46039f\"],[0.2222222222222222,\"#7201a8\"],[0.3333333333333333,\"#9c179e\"],[0.4444444444444444,\"#bd3786\"],[0.5555555555555556,\"#d8576b\"],[0.6666666666666666,\"#ed7953\"],[0.7777777777777778,\"#fb9f3a\"],[0.8888888888888888,\"#fdca26\"],[1.0,\"#f0f921\"]]}],\"mesh3d\":[{\"type\":\"mesh3d\",\"colorbar\":{\"outlinewidth\":0,\"ticks\":\"\"}}],\"scatter\":[{\"fillpattern\":{\"fillmode\":\"overlay\",\"size\":10,\"solidity\":0.2},\"type\":\"scatter\"}],\"parcoords\":[{\"type\":\"parcoords\",\"line\":{\"colorbar\":{\"outlinewidth\":0,\"ticks\":\"\"}}}],\"scatterpolargl\":[{\"type\":\"scatterpolargl\",\"marker\":{\"colorbar\":{\"outlinewidth\":0,\"ticks\":\"\"}}}],\"bar\":[{\"error_x\":{\"color\":\"#2a3f5f\"},\"error_y\":{\"color\":\"#2a3f5f\"},\"marker\":{\"line\":{\"color\":\"white\",\"width\":0.5},\"pattern\":{\"fillmode\":\"overlay\",\"size\":10,\"solidity\":0.2}},\"type\":\"bar\"}],\"scattergeo\":[{\"type\":\"scattergeo\",\"marker\":{\"colorbar\":{\"outlinewidth\":0,\"ticks\":\"\"}}}],\"scatterpolar\":[{\"type\":\"scatterpolar\",\"marker\":{\"colorbar\":{\"outlinewidth\":0,\"ticks\":\"\"}}}],\"histogram\":[{\"marker\":{\"pattern\":{\"fillmode\":\"overlay\",\"size\":10,\"solidity\":0.2}},\"type\":\"histogram\"}],\"scattergl\":[{\"type\":\"scattergl\",\"marker\":{\"colorbar\":{\"outlinewidth\":0,\"ticks\":\"\"}}}],\"scatter3d\":[{\"type\":\"scatter3d\",\"line\":{\"colorbar\":{\"outlinewidth\":0,\"ticks\":\"\"}},\"marker\":{\"colorbar\":{\"outlinewidth\":0,\"ticks\":\"\"}}}],\"scattermapbox\":[{\"type\":\"scattermapbox\",\"marker\":{\"colorbar\":{\"outlinewidth\":0,\"ticks\":\"\"}}}],\"scatterternary\":[{\"type\":\"scatterternary\",\"marker\":{\"colorbar\":{\"outlinewidth\":0,\"ticks\":\"\"}}}],\"scattercarpet\":[{\"type\":\"scattercarpet\",\"marker\":{\"colorbar\":{\"outlinewidth\":0,\"ticks\":\"\"}}}],\"carpet\":[{\"aaxis\":{\"endlinecolor\":\"#2a3f5f\",\"gridcolor\":\"#C8D4E3\",\"linecolor\":\"#C8D4E3\",\"minorgridcolor\":\"#C8D4E3\",\"startlinecolor\":\"#2a3f5f\"},\"baxis\":{\"endlinecolor\":\"#2a3f5f\",\"gridcolor\":\"#C8D4E3\",\"linecolor\":\"#C8D4E3\",\"minorgridcolor\":\"#C8D4E3\",\"startlinecolor\":\"#2a3f5f\"},\"type\":\"carpet\"}],\"table\":[{\"cells\":{\"fill\":{\"color\":\"#EBF0F8\"},\"line\":{\"color\":\"white\"}},\"header\":{\"fill\":{\"color\":\"#C8D4E3\"},\"line\":{\"color\":\"white\"}},\"type\":\"table\"}],\"barpolar\":[{\"marker\":{\"line\":{\"color\":\"white\",\"width\":0.5},\"pattern\":{\"fillmode\":\"overlay\",\"size\":10,\"solidity\":0.2}},\"type\":\"barpolar\"}],\"pie\":[{\"automargin\":true,\"type\":\"pie\"}]},\"layout\":{\"autotypenumbers\":\"strict\",\"colorway\":[\"#636efa\",\"#EF553B\",\"#00cc96\",\"#ab63fa\",\"#FFA15A\",\"#19d3f3\",\"#FF6692\",\"#B6E880\",\"#FF97FF\",\"#FECB52\"],\"font\":{\"color\":\"#2a3f5f\"},\"hovermode\":\"closest\",\"hoverlabel\":{\"align\":\"left\"},\"paper_bgcolor\":\"white\",\"plot_bgcolor\":\"white\",\"polar\":{\"bgcolor\":\"white\",\"angularaxis\":{\"gridcolor\":\"#EBF0F8\",\"linecolor\":\"#EBF0F8\",\"ticks\":\"\"},\"radialaxis\":{\"gridcolor\":\"#EBF0F8\",\"linecolor\":\"#EBF0F8\",\"ticks\":\"\"}},\"ternary\":{\"bgcolor\":\"white\",\"aaxis\":{\"gridcolor\":\"#DFE8F3\",\"linecolor\":\"#A2B1C6\",\"ticks\":\"\"},\"baxis\":{\"gridcolor\":\"#DFE8F3\",\"linecolor\":\"#A2B1C6\",\"ticks\":\"\"},\"caxis\":{\"gridcolor\":\"#DFE8F3\",\"linecolor\":\"#A2B1C6\",\"ticks\":\"\"}},\"coloraxis\":{\"colorbar\":{\"outlinewidth\":0,\"ticks\":\"\"}},\"colorscale\":{\"sequential\":[[0.0,\"#0d0887\"],[0.1111111111111111,\"#46039f\"],[0.2222222222222222,\"#7201a8\"],[0.3333333333333333,\"#9c179e\"],[0.4444444444444444,\"#bd3786\"],[0.5555555555555556,\"#d8576b\"],[0.6666666666666666,\"#ed7953\"],[0.7777777777777778,\"#fb9f3a\"],[0.8888888888888888,\"#fdca26\"],[1.0,\"#f0f921\"]],\"sequentialminus\":[[0.0,\"#0d0887\"],[0.1111111111111111,\"#46039f\"],[0.2222222222222222,\"#7201a8\"],[0.3333333333333333,\"#9c179e\"],[0.4444444444444444,\"#bd3786\"],[0.5555555555555556,\"#d8576b\"],[0.6666666666666666,\"#ed7953\"],[0.7777777777777778,\"#fb9f3a\"],[0.8888888888888888,\"#fdca26\"],[1.0,\"#f0f921\"]],\"diverging\":[[0,\"#8e0152\"],[0.1,\"#c51b7d\"],[0.2,\"#de77ae\"],[0.3,\"#f1b6da\"],[0.4,\"#fde0ef\"],[0.5,\"#f7f7f7\"],[0.6,\"#e6f5d0\"],[0.7,\"#b8e186\"],[0.8,\"#7fbc41\"],[0.9,\"#4d9221\"],[1,\"#276419\"]]},\"xaxis\":{\"gridcolor\":\"#EBF0F8\",\"linecolor\":\"#EBF0F8\",\"ticks\":\"\",\"title\":{\"standoff\":15},\"zerolinecolor\":\"#EBF0F8\",\"automargin\":true,\"zerolinewidth\":2},\"yaxis\":{\"gridcolor\":\"#EBF0F8\",\"linecolor\":\"#EBF0F8\",\"ticks\":\"\",\"title\":{\"standoff\":15},\"zerolinecolor\":\"#EBF0F8\",\"automargin\":true,\"zerolinewidth\":2},\"scene\":{\"xaxis\":{\"backgroundcolor\":\"white\",\"gridcolor\":\"#DFE8F3\",\"linecolor\":\"#EBF0F8\",\"showbackground\":true,\"ticks\":\"\",\"zerolinecolor\":\"#EBF0F8\",\"gridwidth\":2},\"yaxis\":{\"backgroundcolor\":\"white\",\"gridcolor\":\"#DFE8F3\",\"linecolor\":\"#EBF0F8\",\"showbackground\":true,\"ticks\":\"\",\"zerolinecolor\":\"#EBF0F8\",\"gridwidth\":2},\"zaxis\":{\"backgroundcolor\":\"white\",\"gridcolor\":\"#DFE8F3\",\"linecolor\":\"#EBF0F8\",\"showbackground\":true,\"ticks\":\"\",\"zerolinecolor\":\"#EBF0F8\",\"gridwidth\":2}},\"shapedefaults\":{\"line\":{\"color\":\"#2a3f5f\"}},\"annotationdefaults\":{\"arrowcolor\":\"#2a3f5f\",\"arrowhead\":0,\"arrowwidth\":1},\"geo\":{\"bgcolor\":\"white\",\"landcolor\":\"white\",\"subunitcolor\":\"#C8D4E3\",\"showland\":true,\"showlakes\":true,\"lakecolor\":\"white\"},\"title\":{\"x\":0.05},\"mapbox\":{\"style\":\"light\"}}},\"xaxis\":{\"anchor\":\"y\",\"domain\":[0.0,1.0],\"title\":{\"text\":\"Station Layout\"}},\"yaxis\":{\"anchor\":\"x\",\"domain\":[0.0,1.0],\"title\":{\"text\":\"Number of Stations\"}},\"legend\":{\"title\":{\"text\":\"color\"},\"tracegroupgap\":0},\"title\":{\"text\":\"Distributions of Delhi Metro\"},\"barmode\":\"relative\"},                        {\"responsive\": true}                    ).then(function(){\n",
       "                            \n",
       "var gd = document.getElementById('15201094-9498-421d-91c2-36c9045f9180');\n",
       "var x = new MutationObserver(function (mutations, observer) {{\n",
       "        var display = window.getComputedStyle(gd).display;\n",
       "        if (!display || display === 'none') {{\n",
       "            console.log([gd, 'removed!']);\n",
       "            Plotly.purge(gd);\n",
       "            observer.disconnect();\n",
       "        }}\n",
       "}});\n",
       "\n",
       "// Listen for the removal of the full notebook cells\n",
       "var notebookContainer = gd.closest('#notebook-container');\n",
       "if (notebookContainer) {{\n",
       "    x.observe(notebookContainer, {childList: true});\n",
       "}}\n",
       "\n",
       "// Listen for the clearing of the current output cell\n",
       "var outputEl = gd.closest('.output');\n",
       "if (outputEl) {{\n",
       "    x.observe(outputEl, {childList: true});\n",
       "}}\n",
       "\n",
       "                        })                };                });            </script>        </div>"
      ]
     },
     "metadata": {},
     "output_type": "display_data"
    }
   ],
   "source": [
    "fig.show()"
   ]
  },
  {
   "cell_type": "code",
   "execution_count": 242,
   "id": "8ef95d72-dbdb-45e9-aa52-1830c584ff02",
   "metadata": {},
   "outputs": [
    {
     "data": {
      "image/png": "[encoded data removed]",
      "text/plain": [
       "<Figure size 640x480 with 1 Axes>"
      ]
     },
     "metadata": {},
     "output_type": "display_data"
    }
   ],
   "source": [
    "df['Metro Line'].value_counts().plot(kind='bar')\n",
    "plt.xlabel('metro line')\n",
    "plt.ylabel('no. of stations')\n",
    "plt.title('no. of station in a metro line')\n",
    "plt.show()"
   ]
  },
  {
   "cell_type": "code",
   "execution_count": 243,
   "id": "e5ac7663-5629-4135-8ae8-757a437c3f8c",
   "metadata": {},
   "outputs": [
    {
     "data": {
      "image/png": "[encoded data removed]",
      "text/plain": [
       "<Figure size 640x480 with 1 Axes>"
      ]
     },
     "metadata": {},
     "output_type": "display_data"
    }
   ],
   "source": [
    "plt.hist(df['Dist. From First Station(km)'], bins=20)\n",
    "plt.xlabel('Distance from First Station in km')\n",
    "plt.ylabel('Frequency')\n",
    "plt.title('Distribution of Distances from First Station')\n",
    "plt.tight_layout()\n",
    "plt.show()"
   ]
  },
  {
   "cell_type": "markdown",
   "id": "99d27327-3de7-4d1a-bcb1-8c7605b8febe",
   "metadata": {},
   "source": [
    "popular stations"
   ]
  },
  {
   "cell_type": "code",
   "execution_count": 244,
   "id": "6a2bb844-4a1d-4c52-b78a-e476d1b71fdc",
   "metadata": {},
   "outputs": [],
   "source": [
    "df.columns = df.columns.str.strip()\n",
    "df = df.dropna(subset=[\"Station Names\"])"
   ]
  },
  {
   "cell_type": "code",
   "execution_count": 245,
   "id": "97cc21bb-8dcd-4c3e-aee8-f097439dd6c8",
   "metadata": {},
   "outputs": [],
   "source": [
    "np.random.seed(34)\n",
    "df[\"Random_genreted\"] = np.random.randint(500, 5000, size=len(df))"
   ]
  },
  {
   "cell_type": "code",
   "execution_count": 246,
   "id": "2ac89ca5-7603-4e2b-baf4-9a7a9399c547",
   "metadata": {},
   "outputs": [
    {
     "name": "stdout",
     "output_type": "stream",
     "text": [
      " Top 10 Most Popular Stations:\n",
      "Station Names\n",
      "Rajouri Garden         9298\n",
      "Azadpur                8828\n",
      "Botanical Garden       8698\n",
      "Welcome                8108\n",
      "Anand Vihar            6952\n",
      "Central Secretariat    6784\n",
      "Karkar Duma            6772\n",
      "Lajpat Nagar           6268\n",
      "Dwarka                 6095\n",
      "Janak Puri West        5135\n",
      "Name: Random_genreted, dtype: int32\n"
     ]
    }
   ],
   "source": [
    "top_stations = df.groupby(\"Station Names\")[\"Random_genreted\"].sum().sort_values(ascending=False).head(10)\n",
    "print(\" Top 10 Most Popular Stations:\")\n",
    "print(top_stations)"
   ]
  },
  {
   "cell_type": "code",
   "execution_count": 247,
   "id": "391f8334-5000-43f5-853d-f34d51d83fd3",
   "metadata": {},
   "outputs": [
    {
     "data": {
      "image/png": "[encoded data removed]",
      "text/plain": [
       "<Figure size 1000x600 with 1 Axes>"
      ]
     },
     "metadata": {},
     "output_type": "display_data"
    }
   ],
   "source": [
    "plt.figure(figsize=(10,6))\n",
    "top_stations.plot(kind='bar')\n",
    "plt.title(\"Top 10 Most Popular Metro Stations\")\n",
    "plt.xlabel(\"Station Name\")\n",
    "plt.ylabel(\"Estimated Usage Count\")\n",
    "plt.tight_layout()\n",
    "plt.show()"
   ]
  },
  {
   "cell_type": "code",
   "execution_count": 248,
   "id": "8defdc1a-c75e-4779-85b3-cc6f9d506111",
   "metadata": {},
   "outputs": [
    {
     "data": {
      "text/html": [
       "<div>\n",
       "<style scoped>\n",
       "    .dataframe tbody tr th:only-of-type {\n",
       "        vertical-align: middle;\n",
       "    }\n",
       "\n",
       "    .dataframe tbody tr th {\n",
       "        vertical-align: top;\n",
       "    }\n",
       "\n",
       "    .dataframe thead th {\n",
       "        text-align: right;\n",
       "    }\n",
       "</style>\n",
       "<table border=\"1\" class=\"dataframe\">\n",
       "  <thead>\n",
       "    <tr style=\"text-align: right;\">\n",
       "      <th></th>\n",
       "      <th>ID (Station ID)</th>\n",
       "      <th>Station Names</th>\n",
       "      <th>Dist. From First Station(km)</th>\n",
       "      <th>Metro Line</th>\n",
       "      <th>Opened(Year)</th>\n",
       "      <th>Layout</th>\n",
       "      <th>Latitude</th>\n",
       "      <th>Longitude</th>\n",
       "      <th>Random_genreted</th>\n",
       "    </tr>\n",
       "  </thead>\n",
       "  <tbody>\n",
       "    <tr>\n",
       "      <th>0</th>\n",
       "      <td>1.0</td>\n",
       "      <td>Shaheed Sthal(First Station)</td>\n",
       "      <td>0.0</td>\n",
       "      <td>Red line</td>\n",
       "      <td>08-03-2019</td>\n",
       "      <td>Elevated</td>\n",
       "      <td>28.670611</td>\n",
       "      <td>77.415582</td>\n",
       "      <td>3989</td>\n",
       "    </tr>\n",
       "    <tr>\n",
       "      <th>1</th>\n",
       "      <td>2.0</td>\n",
       "      <td>Hindon River</td>\n",
       "      <td>1.0</td>\n",
       "      <td>Red line</td>\n",
       "      <td>08-03-2019</td>\n",
       "      <td>Elevated</td>\n",
       "      <td>28.878965</td>\n",
       "      <td>77.415483</td>\n",
       "      <td>3038</td>\n",
       "    </tr>\n",
       "    <tr>\n",
       "      <th>2</th>\n",
       "      <td>3.0</td>\n",
       "      <td>Arthala</td>\n",
       "      <td>2.5</td>\n",
       "      <td>Red line</td>\n",
       "      <td>08-03-2019</td>\n",
       "      <td>Elevated</td>\n",
       "      <td>28.676999</td>\n",
       "      <td>77.391892</td>\n",
       "      <td>4330</td>\n",
       "    </tr>\n",
       "    <tr>\n",
       "      <th>3</th>\n",
       "      <td>4.0</td>\n",
       "      <td>Mohan Nagar</td>\n",
       "      <td>3.2</td>\n",
       "      <td>Red line</td>\n",
       "      <td>08-03-2019</td>\n",
       "      <td>Elevated</td>\n",
       "      <td>28.606319</td>\n",
       "      <td>77.106082</td>\n",
       "      <td>3657</td>\n",
       "    </tr>\n",
       "    <tr>\n",
       "      <th>4</th>\n",
       "      <td>5.0</td>\n",
       "      <td>Shyam park</td>\n",
       "      <td>4.5</td>\n",
       "      <td>Red line</td>\n",
       "      <td>08-03-2019</td>\n",
       "      <td>Elevated</td>\n",
       "      <td>28.698807</td>\n",
       "      <td>28.698807</td>\n",
       "      <td>824</td>\n",
       "    </tr>\n",
       "    <tr>\n",
       "      <th>...</th>\n",
       "      <td>...</td>\n",
       "      <td>...</td>\n",
       "      <td>...</td>\n",
       "      <td>...</td>\n",
       "      <td>...</td>\n",
       "      <td>...</td>\n",
       "      <td>...</td>\n",
       "      <td>...</td>\n",
       "      <td>...</td>\n",
       "    </tr>\n",
       "    <tr>\n",
       "      <th>331</th>\n",
       "      <td>2.0</td>\n",
       "      <td>Shivaji Stadium</td>\n",
       "      <td>1.9</td>\n",
       "      <td>Orange line</td>\n",
       "      <td>23-02-2011</td>\n",
       "      <td>Underground</td>\n",
       "      <td>28.629010</td>\n",
       "      <td>77.211900</td>\n",
       "      <td>2846</td>\n",
       "    </tr>\n",
       "    <tr>\n",
       "      <th>332</th>\n",
       "      <td>3.0</td>\n",
       "      <td>Dhaula Kuan</td>\n",
       "      <td>8.3</td>\n",
       "      <td>Orange line</td>\n",
       "      <td>15-08-2011</td>\n",
       "      <td>Elevated</td>\n",
       "      <td>28.591780</td>\n",
       "      <td>77.161550</td>\n",
       "      <td>2433</td>\n",
       "    </tr>\n",
       "    <tr>\n",
       "      <th>334</th>\n",
       "      <td>4.0</td>\n",
       "      <td>Delhi Aerocity</td>\n",
       "      <td>14.5</td>\n",
       "      <td>Orange line</td>\n",
       "      <td>15-08-2011</td>\n",
       "      <td>Underground</td>\n",
       "      <td>28.548810</td>\n",
       "      <td>77.120920</td>\n",
       "      <td>3678</td>\n",
       "    </tr>\n",
       "    <tr>\n",
       "      <th>335</th>\n",
       "      <td>5.0</td>\n",
       "      <td>IGI Airport</td>\n",
       "      <td>17.9</td>\n",
       "      <td>Orange line</td>\n",
       "      <td>23-02-2011</td>\n",
       "      <td>Underground</td>\n",
       "      <td>28.556930</td>\n",
       "      <td>77.086690</td>\n",
       "      <td>3627</td>\n",
       "    </tr>\n",
       "    <tr>\n",
       "      <th>336</th>\n",
       "      <td>6.0</td>\n",
       "      <td>Dwarka Sector 21</td>\n",
       "      <td>20.8</td>\n",
       "      <td>Orange line</td>\n",
       "      <td>23-02-2011</td>\n",
       "      <td>Underground</td>\n",
       "      <td>28.552260</td>\n",
       "      <td>77.058280</td>\n",
       "      <td>4016</td>\n",
       "    </tr>\n",
       "  </tbody>\n",
       "</table>\n",
       "<p>284 rows × 9 columns</p>\n",
       "</div>"
      ],
      "text/plain": [
       "     ID (Station ID)                 Station Names  \\\n",
       "0                1.0  Shaheed Sthal(First Station)   \n",
       "1                2.0                  Hindon River   \n",
       "2                3.0                       Arthala   \n",
       "3                4.0                   Mohan Nagar   \n",
       "4                5.0                    Shyam park   \n",
       "..               ...                           ...   \n",
       "331              2.0               Shivaji Stadium   \n",
       "332              3.0                   Dhaula Kuan   \n",
       "334              4.0                Delhi Aerocity   \n",
       "335              5.0                   IGI Airport   \n",
       "336              6.0              Dwarka Sector 21   \n",
       "\n",
       "     Dist. From First Station(km)   Metro Line Opened(Year)       Layout  \\\n",
       "0                             0.0     Red line   08-03-2019     Elevated   \n",
       "1                             1.0     Red line   08-03-2019     Elevated   \n",
       "2                             2.5     Red line   08-03-2019     Elevated   \n",
       "3                             3.2     Red line   08-03-2019     Elevated   \n",
       "4                             4.5     Red line   08-03-2019     Elevated   \n",
       "..                            ...          ...          ...          ...   \n",
       "331                           1.9  Orange line   23-02-2011  Underground   \n",
       "332                           8.3  Orange line   15-08-2011     Elevated   \n",
       "334                          14.5  Orange line   15-08-2011  Underground   \n",
       "335                          17.9  Orange line   23-02-2011  Underground   \n",
       "336                          20.8  Orange line   23-02-2011  Underground   \n",
       "\n",
       "      Latitude  Longitude  Random_genreted  \n",
       "0    28.670611  77.415582             3989  \n",
       "1    28.878965  77.415483             3038  \n",
       "2    28.676999  77.391892             4330  \n",
       "3    28.606319  77.106082             3657  \n",
       "4    28.698807  28.698807              824  \n",
       "..         ...        ...              ...  \n",
       "331  28.629010  77.211900             2846  \n",
       "332  28.591780  77.161550             2433  \n",
       "334  28.548810  77.120920             3678  \n",
       "335  28.556930  77.086690             3627  \n",
       "336  28.552260  77.058280             4016  \n",
       "\n",
       "[284 rows x 9 columns]"
      ]
     },
     "execution_count": 248,
     "metadata": {},
     "output_type": "execute_result"
    }
   ],
   "source": [
    "df"
   ]
  },
  {
   "cell_type": "code",
   "execution_count": null,
   "id": "6cae8894-71df-4f22-95f0-2da81e308391",
   "metadata": {},
   "outputs": [],
   "source": []
  }
 ],
 "metadata": {
  "kernelspec": {
   "display_name": "Python [conda env:base] *",
   "language": "python",
   "name": "conda-base-py"
  },
  "language_info": {
   "codemirror_mode": {
    "name": "ipython",
    "version": 3
   },
   "file_extension": ".py",
   "mimetype": "text/x-python",
   "name": "python",
   "nbconvert_exporter": "python",
   "pygments_lexer": "ipython3",
   "version": "3.13.5"
  }
 },
 "nbformat": 4,
 "nbformat_minor": 5
}
